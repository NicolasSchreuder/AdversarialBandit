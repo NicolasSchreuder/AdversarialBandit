{
 "cells": [
  {
   "cell_type": "code",
   "execution_count": null,
   "metadata": {
    "collapsed": true
   },
   "outputs": [],
   "source": [
    "import numpy as np\n",
    "import matplotlib.pyplot as plt\n",
    "%pylab inline\n",
    "\n",
    "from MultiArmedBandit import Arm, bernoulliArm, evolvingBernoulliArm\n",
    "from Exp3 import exp3_Bianchi, exp3P_Bianchi, exp3_IX\n",
    "from OtherBanditAlgorithms import UCB1, Random"
   ]
  },
  {
   "cell_type": "code",
   "execution_count": null,
   "metadata": {
    "collapsed": true
   },
   "outputs": [],
   "source": [
    "### Simple vicious adversary\n",
    "\n",
    "At each turn only one of the arms has a 1-reward\n",
    "\n",
    "Exp3 are much better than UCB, but appears more or less as a random algorithm"
   ]
  },
  {
   "cell_type": "code",
   "execution_count": null,
   "metadata": {
    "collapsed": true
   },
   "outputs": [],
   "source": [
    "T = 10000\n",
    "\n",
    "nb_arms = 10\n",
    "\n",
    "Rewards = [[0 for _ in range(T)] for _ in range(nb_arms)]\n",
    "for i in range(T):\n",
    "    Rewards[i % nb_arms][i] = 1\n",
    "MAB = [Arm(rewards_sequence=Rewards[i]) for i in range(nb_arms)]"
   ]
  },
  {
   "cell_type": "code",
   "execution_count": null,
   "metadata": {
    "collapsed": true
   },
   "outputs": [],
   "source": [
    "K = len(MAB)\n",
    "base_parameter = np.sqrt(np.log(K) / (T * K))\n",
    "\n",
    "T = 10000\n",
    "T2 = 5000\n",
    "\n",
    "n_iter = 50\n",
    "nb_multipliers = 10\n",
    "R_T = np.zeros((3, nb_multipliers, n_iter))\n",
    "R_T2 = np.zeros((3, nb_multipliers, n_iter))\n",
    "\n",
    "for j, multiplier in enumerate(np.linspace(1e-3, 5e1, nb_multipliers)):\n",
    "    print(multiplier)\n",
    "    for i in range(50):\n",
    "        eta = multiplier * base_parameter\n",
    "        rew, _ = exp3_Bianchi(MAB, T, eta=[eta for _ in range(T)])\n",
    "\n",
    "        rew_P, _ = exp3P_Bianchi(MAB, T, beta=eta, gamma=K * eta, eta=eta)\n",
    "        rew_IX, _ = exp3_IX(MAB, T, eta, eta / 2)\n",
    "\n",
    "        exp3_T2, exp3_P_T2, exp3_IX_T2 = np.sum(\n",
    "            rew[: T2]), np.sum(rew_P[: T2]), np.sum(rew_IX[: T2])\n",
    "\n",
    "        exp3_T, exp3_P_T, exp3_IX_T = exp3_T2 + np.sum(rew[T2:]), exp3_P_T2 + np.sum(rew_P[T2:]\n",
    "                                                                                     ), exp3_IX_T2 + np.sum(rew_IX[T2:])\n",
    "\n",
    "        R_T2[:, j, i] = [exp3_T2, exp3_P_T2, exp3_IX_T2]\n",
    "        R_T[:, j, i] = [exp3_T, exp3_P_T, exp3_IX_T]"
   ]
  },
  {
   "cell_type": "code",
   "execution_count": null,
   "metadata": {
    "collapsed": true
   },
   "outputs": [],
   "source": [
    "R_T_mean = np.mean(R_T, axis=2)\n",
    "R_T2_mean = np.mean(R_T2, axis=2)\n",
    "R_T_std = np.std(R_T, axis=2)\n",
    "R_T2_std = np.std(R_T2, axis=2)\n",
    "\n",
    "plt.subplot(1,2,1)\n",
    "plt.errorbar(np.linspace(0, 50, 10), R_T2_mean[0], R_T2_std[0], label=\"Exp3\")\n",
    "plt.errorbar(np.linspace(0, 50, 10), R_T2_mean[1], R_T2_std[1], label=\"Exp3.P\")\n",
    "plt.errorbar(np.linspace(0, 50, 10), R_T2_mean[2], R_T2_std[2], label=\"Exp3.P\")\n",
    "\n",
    "plt.subplot(1,2,2)\n",
    "plt.errorbar(np.linspace(0, 50, 10), R_T_mean[0], R_T_std[0], label=\"Exp3\")\n",
    "plt.errorbar(np.linspace(0, 50, 10), R_T_mean[1], R_T_std[1], label=\"Exp3.P\")\n",
    "plt.errorbar(np.linspace(0, 50, 10), R_T_mean[2], R_T_std[2], label=\"Exp3-IX\")\n",
    "plt.legend()"
   ]
  },
  {
   "cell_type": "code",
   "execution_count": null,
   "metadata": {
    "collapsed": true
   },
   "outputs": [],
   "source": [
    "rew = exp3_Bianchi(MAB, T, eta=etas)\n",
    "rew_P = exp3P_Bianchi(MAB, T, beta=beta, gamma=gamma, eta=eta)\n",
    "rew_IX, _ = exp3_IX(MAB, T, eta=eta, gamma=0.5)\n",
    "rew_UCB, _ = UCB1(MAB, T, rho=0.7)\n",
    "rew_random = Random(MAB, T)"
   ]
  },
  {
   "cell_type": "code",
   "execution_count": null,
   "metadata": {
    "collapsed": true
   },
   "outputs": [],
   "source": [
    "#set up the parameters\n",
    "\n",
    "K = len(MAB)\n",
    "eta = np.sqrt(2 * np.log(K) / T * K)\n",
    "etas_exp3 = [eta for _ in range(T)]\n",
    "\n",
    "delta = 0.05\n",
    "eta = 0.95 * np.sqrt(np.log(K) / (T * K))\n",
    "gamma = 1.05 * np.sqrt(np.log(K) * K / T)\n",
    "beta = np.sqrt(np.log(K / delta) /  (T * K))"
   ]
  },
  {
   "cell_type": "code",
   "execution_count": null,
   "metadata": {
    "collapsed": true
   },
   "outputs": [],
   "source": [
    "exp3_cumsum = np.cumsum(rew)\n",
    "exp3_P_cumsum = np.cumsum(rew_P)\n",
    "exp3_IX_cumsum = np.cumsum(rew_IX)\n",
    "UCB_cumsum = np.cumsum(rew_UCB)\n",
    "rew_cumsum = np.cumsum(rew_random)\n",
    "\n",
    "plt.plot(exp3_cumsum, '--o', markevery=1500, label=\"Exp3\")\n",
    "\n",
    "plt.plot(exp3_P_cumsum, '--o', markevery=1500, label=\"Exp3.P\")\n",
    "plt.plot(exp3_IX_cumsum, '--o', markevery=1500, label=\"Exp3-IX\")\n",
    "plt.plot(UCB_cumsum, '--o', markevery=1500, label=\"UCB\")\n",
    "plt.plot(rew_cumsum, '--o', markevery=1500, label=\"random\")\n",
    "\n",
    "plt.legend(loc=\"upper left\")\n",
    "plt.title(\"Cumulative reward\")"
   ]
  },
  {
   "cell_type": "code",
   "execution_count": null,
   "metadata": {
    "collapsed": true
   },
   "outputs": [],
   "source": []
  }
 ],
 "metadata": {
  "kernelspec": {
   "display_name": "Python 3",
   "language": "python",
   "name": "python3"
  },
  "language_info": {
   "codemirror_mode": {
    "name": "ipython",
    "version": 3
   },
   "file_extension": ".py",
   "mimetype": "text/x-python",
   "name": "python",
   "nbconvert_exporter": "python",
   "pygments_lexer": "ipython3",
   "version": "3.5.3"
  }
 },
 "nbformat": 4,
 "nbformat_minor": 2
}
