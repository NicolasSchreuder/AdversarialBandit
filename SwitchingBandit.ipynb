{
 "cells": [
  {
   "cell_type": "code",
   "execution_count": null,
   "metadata": {
    "collapsed": true
   },
   "outputs": [],
   "source": [
    "import numpy as np\n",
    "import matplotlib.pyplot as plt\n",
    "%pylab inline\n",
    "\n",
    "from MultiArmedBandit import Arm, bernoulliArm, evolvingBernoulliArm\n",
    "from Exp3 import exp3_Bianchi, exp3P_Bianchi, exp3_IX\n",
    "from OtherBanditAlgorithms import UCB1, Random"
   ]
  },
  {
   "cell_type": "markdown",
   "metadata": {},
   "source": [
    "Ref : https://arxiv.org/pdf/1506.03271.pdf (Section 4)"
   ]
  },
  {
   "cell_type": "markdown",
   "metadata": {},
   "source": [
    "10-arm bandit problem where\n",
    "all losses are independent draws of Bernoulli random variables. \n",
    "\n",
    "The mean rewards of arms 1 through 8 are 0.5\n",
    "\n",
    "The mean reward of arm 9 is $0.5 + \\delta$ for all rounds $t = 1, 2, . . . , T$. \n",
    "\n",
    "The mean rewards of\n",
    "arm 10 are changing over time: for rounds $t \\leq \\frac{T}{2}$, the mean is $0.5 - \\delta$, and $0.5 + 4\\delta$ afterwards.\n",
    "\n",
    "/!\\ We consider rewards instead of losses (opposite to the article) \n",
    "\n",
    "$\\beta = \\frac{\\gamma}{K} = \\frac{\\eta}{20}$ ou $\\beta = \\eta$ ???"
   ]
  },
  {
   "cell_type": "code",
   "execution_count": null,
   "metadata": {
    "collapsed": true
   },
   "outputs": [],
   "source": [
    "T = 10000\n",
    "T2 = 5000\n",
    "K = 10\n",
    "delta = 0.1\n",
    "MAB_IX = [bernoulliArm(0.5) for i in range(8)]\n",
    "MAB_IX.append(bernoulliArm(0.5 + delta))\n",
    "MAB_IX.append(evolvingBernoulliArm([0.5 - delta, 0.5 + 4*delta], T/2))\n",
    "\n",
    "base_parameter = np.sqrt(np.log(K) / T * K)\n",
    "print(base_parameter)"
   ]
  },
  {
   "cell_type": "code",
   "execution_count": null,
   "metadata": {
    "collapsed": true
   },
   "outputs": [],
   "source": [
    "T = 10000\n",
    "T2 = 5000\n",
    "\n",
    "n_iter = 50\n",
    "nb_multipliers = 20\n",
    "R_T = np.zeros((3, nb_multipliers, n_iter))\n",
    "R_T2 = np.zeros((3, nb_multipliers, n_iter))\n",
    "\n",
    "X = np.logspace(-2, 4, nb_multipliers)\n",
    "\n",
    "for j, multiplier in enumerate(X):\n",
    "    print(multiplier)\n",
    "    for i in range(n_iter):\n",
    "        eta = multiplier * base_parameter\n",
    "        rew, _ = exp3_Bianchi(MAB_IX, T, eta)\n",
    "\n",
    "        rew_P, _ = exp3P_Bianchi(MAB_IX, T, beta=eta, gamma=min(0.95, eta), eta=eta)\n",
    "        rew_IX, _ = exp3_IX(MAB_IX, T, eta, eta / 2)\n",
    "        exp3_T2, exp3_P_T2, exp3_IX_T2 = np.sum(\n",
    "            rew[: T2]), np.sum(rew_P[: T2]), np.sum(rew_IX[: T2])\n",
    "\n",
    "        exp3_T, exp3_P_T, exp3_IX_T = exp3_T2 + np.sum(rew[T2:]), exp3_P_T2 + np.sum(rew_P[T2:]\n",
    "                                                                                     ), exp3_IX_T2 + np.sum(rew_IX[T2:])\n",
    "        \n",
    "        R_T2[:, j, i] = [exp3_T2, exp3_P_T2, exp3_IX_T2]\n",
    "        R_T[:, j, i] = [exp3_T, exp3_P_T, exp3_IX_T]"
   ]
  },
  {
   "cell_type": "code",
   "execution_count": null,
   "metadata": {
    "collapsed": true
   },
   "outputs": [],
   "source": [
    "UCB_T = []\n",
    "UCB_T2 = []\n",
    "for i in range(n_iter):  \n",
    "    rew_ucb, _ = UCB1(MAB_IX, T, rho=0.2)\n",
    "    rew_cumsum = np.cumsum(rew_ucb)\n",
    "    UCB_T.append(rew_cumsum[T - 1])\n",
    "    UCB_T2.append(rew_cumsum[T2 - 1])\n",
    "    \n",
    "print(np.mean(UCB_T))\n",
    "print(np.std(UCB_T))\n",
    "print(np.mean(UCB_T2))\n",
    "print(np.std(UCB_T2))"
   ]
  },
  {
   "cell_type": "code",
   "execution_count": null,
   "metadata": {
    "collapsed": true
   },
   "outputs": [],
   "source": [
    "R_T_mean = np.mean(R_T, axis=2)\n",
    "R_T2_mean = np.mean(R_T2, axis=2)\n",
    "R_T_std = np.std(R_T, axis=2)\n",
    "R_T2_std = np.std(R_T2, axis=2)\n",
    "\n",
    "\n",
    "plt.subplots(figsize=(20,10))\n",
    "plt.subplot(1,2,1)\n",
    "plt.semilogx()\n",
    "plt.errorbar(X, R_T2_mean[0], R_T2_std[0], label=\"Exp3\")\n",
    "plt.errorbar(X, R_T2_mean[1], R_T2_std[1], label=\"Exp3.P\")\n",
    "plt.errorbar(X, R_T2_mean[2], R_T2_std[2], label=\"Exp3-IX\")\n",
    "plt.axhline(2500, c=\"black\", label=\"Random\")\n",
    "plt.legend(loc=\"upper left\")\n",
    "plt.subplot(1,2,2)\n",
    "plt.semilogx()\n",
    "plt.errorbar(X, R_T_mean[0], R_T_std[0], label=\"Exp3\")\n",
    "plt.errorbar(X, R_T_mean[1], R_T_std[1], label=\"Exp3.P\")\n",
    "plt.errorbar(X, R_T_mean[2], R_T_std[2], label=\"Exp3-IX\")\n",
    "plt.axhline((2 + 0.015) * 2500, c=\"black\", label=\"Random\")\n",
    "plt.legend()\n",
    "plt.title(\"Cumulativer reward\")"
   ]
  },
  {
   "cell_type": "code",
   "execution_count": null,
   "metadata": {
    "collapsed": true
   },
   "outputs": [],
   "source": [
    "T = 10000\n",
    "T2 = 5000\n",
    "K = 10\n",
    "delta = 0.1\n",
    "MAB_IX = [bernoulliArm(0.5) for i in range(8)]\n",
    "MAB_IX.append(bernoulliArm(0.5 + delta))\n",
    "MAB_IX.append(evolvingBernoulliArm([0.5 - delta, 0.5 + 4*delta], T/2))\n",
    "\n",
    "base_parameter = np.sqrt(np.log(K) / T * K)\n",
    "eta = 0.4 * base_parameter\n",
    "\n",
    "Weights = np.zeros((3, T, K))\n",
    "Rewards = np.zeros((3, T))\n",
    "nb_iter = 50\n",
    "for i in range(nb_iter):\n",
    "    rew, weights_exp = exp3_Bianchi(MAB_IX, T, eta)\n",
    "    rew_P, weights_expP = exp3P_Bianchi(MAB_IX, T, beta=eta, gamma=min(0.95, eta), eta=eta)\n",
    "    rew_IX, weights_expIX = exp3_IX(MAB_IX, T, eta, eta / 2)\n",
    "    rew_cumsum = np.cumsum(rew)\n",
    "    rewP_cumsum = np.cumsum(rew_P)\n",
    "    rewIX_cumsum = np.cumsum(rew_IX)\n",
    "    Rewards += [rew_cumsum, rewP_cumsum, rewIX_cumsum]\n",
    "    Weights += [weights_exp, weights_expP, weights_expIX]\n",
    "    \n",
    "Rewards /= nb_iter\n",
    "Weights /= nb_iter"
   ]
  },
  {
   "cell_type": "code",
   "execution_count": null,
   "metadata": {
    "collapsed": true
   },
   "outputs": [],
   "source": [
    "plt.plot(Rewards[0])\n",
    "plt.plot(Rewards[1])\n",
    "plt.plot(Rewards[2])\n",
    "plt.legend([\"Exp3\", \"Exp3.P\", \"Exp3-IX\"], loc=\"upper left\")"
   ]
  },
  {
   "cell_type": "code",
   "execution_count": null,
   "metadata": {
    "collapsed": true
   },
   "outputs": [],
   "source": [
    "plt.figure(figsize=(15, 5))\n",
    "plt.subplot(1,3,1)\n",
    "plt.plot(Weights[0].T)\n",
    "plt.semilogy()\n",
    "plt.legend([i+1 for i in range(10)], loc=\"upper left\")\n",
    "plt.subplot(1,3,2)\n",
    "plt.plot(Weights[1])\n",
    "plt.semilogy()\n",
    "plt.legend([i+1 for i in range(10)], loc=\"upper left\")\n",
    "plt.subplot(1,3,3)\n",
    "plt.plot(Weights[2])\n",
    "plt.semilogy()\n",
    "plt.legend([i+1 for i in range(10)], loc=\"upper left\")"
   ]
  },
  {
   "cell_type": "code",
   "execution_count": null,
   "metadata": {
    "collapsed": true
   },
   "outputs": [],
   "source": [
    "plt.plot(Weights[0][:, 6:])\n",
    "plt.semilogy()\n",
    "plt.legend([7,8,9,10])"
   ]
  },
  {
   "cell_type": "code",
   "execution_count": null,
   "metadata": {
    "collapsed": true
   },
   "outputs": [],
   "source": []
  },
  {
   "cell_type": "code",
   "execution_count": null,
   "metadata": {
    "collapsed": true
   },
   "outputs": [],
   "source": []
  },
  {
   "cell_type": "code",
   "execution_count": null,
   "metadata": {
    "collapsed": true
   },
   "outputs": [],
   "source": []
  }
 ],
 "metadata": {
  "kernelspec": {
   "display_name": "Python 3",
   "language": "python",
   "name": "python3"
  },
  "language_info": {
   "codemirror_mode": {
    "name": "ipython",
    "version": 3
   },
   "file_extension": ".py",
   "mimetype": "text/x-python",
   "name": "python",
   "nbconvert_exporter": "python",
   "pygments_lexer": "ipython3",
   "version": "3.5.3"
  }
 },
 "nbformat": 4,
 "nbformat_minor": 2
}
